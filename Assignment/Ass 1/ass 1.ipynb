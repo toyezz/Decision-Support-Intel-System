{
 "cells": [
  {
   "cell_type": "code",
   "execution_count": 1,
   "metadata": {},
   "outputs": [
    {
     "name": "stdout",
     "output_type": "stream",
     "text": [
      "Requirement already satisfied: pandas in c:\\users\\toyes\\appdata\\local\\programs\\python\\python311\\lib\\site-packages (1.5.3)\n",
      "Requirement already satisfied: python-dateutil>=2.8.1 in c:\\users\\toyes\\appdata\\local\\programs\\python\\python311\\lib\\site-packages (from pandas) (2.8.2)\n",
      "Requirement already satisfied: pytz>=2020.1 in c:\\users\\toyes\\appdata\\local\\programs\\python\\python311\\lib\\site-packages (from pandas) (2022.7.1)\n",
      "Requirement already satisfied: numpy>=1.21.0 in c:\\users\\toyes\\appdata\\local\\programs\\python\\python311\\lib\\site-packages (from pandas) (1.24.2)\n",
      "Requirement already satisfied: six>=1.5 in c:\\users\\toyes\\appdata\\local\\programs\\python\\python311\\lib\\site-packages (from python-dateutil>=2.8.1->pandas) (1.16.0)\n"
     ]
    },
    {
     "data": {
      "text/html": [
       "<div>\n",
       "<style scoped>\n",
       "    .dataframe tbody tr th:only-of-type {\n",
       "        vertical-align: middle;\n",
       "    }\n",
       "\n",
       "    .dataframe tbody tr th {\n",
       "        vertical-align: top;\n",
       "    }\n",
       "\n",
       "    .dataframe thead th {\n",
       "        text-align: right;\n",
       "    }\n",
       "</style>\n",
       "<table border=\"1\" class=\"dataframe\">\n",
       "  <thead>\n",
       "    <tr style=\"text-align: right;\">\n",
       "      <th></th>\n",
       "      <th>Airline</th>\n",
       "      <th>Date_of_Journey</th>\n",
       "      <th>Source</th>\n",
       "      <th>Destination</th>\n",
       "      <th>Route</th>\n",
       "      <th>Dep_Time</th>\n",
       "      <th>Arrival_Time</th>\n",
       "      <th>Duration</th>\n",
       "      <th>Total_Stops</th>\n",
       "      <th>Additional_Info</th>\n",
       "      <th>Price</th>\n",
       "    </tr>\n",
       "  </thead>\n",
       "  <tbody>\n",
       "    <tr>\n",
       "      <th>0</th>\n",
       "      <td>IndiGo</td>\n",
       "      <td>24/03/2019</td>\n",
       "      <td>Banglore</td>\n",
       "      <td>New Delhi</td>\n",
       "      <td>BLR ? DEL</td>\n",
       "      <td>22:20</td>\n",
       "      <td>3/22/2023 1:10</td>\n",
       "      <td>2h 50m</td>\n",
       "      <td>non-stop</td>\n",
       "      <td>No info</td>\n",
       "      <td>3897</td>\n",
       "    </tr>\n",
       "    <tr>\n",
       "      <th>1</th>\n",
       "      <td>Air India</td>\n",
       "      <td>1/5/2019</td>\n",
       "      <td>Kolkata</td>\n",
       "      <td>Banglore</td>\n",
       "      <td>CCU ? IXR ? BBI ? BLR</td>\n",
       "      <td>5:50</td>\n",
       "      <td>13:15</td>\n",
       "      <td>7h 25m</td>\n",
       "      <td>2 stops</td>\n",
       "      <td>No info</td>\n",
       "      <td>7662</td>\n",
       "    </tr>\n",
       "    <tr>\n",
       "      <th>2</th>\n",
       "      <td>Jet Airways</td>\n",
       "      <td>9/6/2019</td>\n",
       "      <td>Delhi</td>\n",
       "      <td>Cochin</td>\n",
       "      <td>DEL ? LKO ? BOM ? COK</td>\n",
       "      <td>9:25</td>\n",
       "      <td>6/10/2023 4:25</td>\n",
       "      <td>19h</td>\n",
       "      <td>2 stops</td>\n",
       "      <td>No info</td>\n",
       "      <td>13882</td>\n",
       "    </tr>\n",
       "    <tr>\n",
       "      <th>3</th>\n",
       "      <td>IndiGo</td>\n",
       "      <td>12/5/2019</td>\n",
       "      <td>Kolkata</td>\n",
       "      <td>Banglore</td>\n",
       "      <td>CCU ? NAG ? BLR</td>\n",
       "      <td>18:05</td>\n",
       "      <td>23:30</td>\n",
       "      <td>5h 25m</td>\n",
       "      <td>1 stop</td>\n",
       "      <td>No info</td>\n",
       "      <td>6218</td>\n",
       "    </tr>\n",
       "    <tr>\n",
       "      <th>4</th>\n",
       "      <td>IndiGo</td>\n",
       "      <td>1/3/2019</td>\n",
       "      <td>Banglore</td>\n",
       "      <td>New Delhi</td>\n",
       "      <td>BLR ? NAG ? DEL</td>\n",
       "      <td>16:50</td>\n",
       "      <td>21:35</td>\n",
       "      <td>4h 45m</td>\n",
       "      <td>1 stop</td>\n",
       "      <td>No info</td>\n",
       "      <td>13302</td>\n",
       "    </tr>\n",
       "  </tbody>\n",
       "</table>\n",
       "</div>"
      ],
      "text/plain": [
       "       Airline Date_of_Journey    Source Destination                  Route  \\\n",
       "0       IndiGo      24/03/2019  Banglore   New Delhi              BLR ? DEL   \n",
       "1    Air India        1/5/2019   Kolkata    Banglore  CCU ? IXR ? BBI ? BLR   \n",
       "2  Jet Airways        9/6/2019     Delhi      Cochin  DEL ? LKO ? BOM ? COK   \n",
       "3       IndiGo       12/5/2019   Kolkata    Banglore        CCU ? NAG ? BLR   \n",
       "4       IndiGo        1/3/2019  Banglore   New Delhi        BLR ? NAG ? DEL   \n",
       "\n",
       "  Dep_Time    Arrival_Time Duration Total_Stops Additional_Info  Price  \n",
       "0    22:20  3/22/2023 1:10   2h 50m    non-stop         No info   3897  \n",
       "1     5:50           13:15   7h 25m     2 stops         No info   7662  \n",
       "2     9:25  6/10/2023 4:25      19h     2 stops         No info  13882  \n",
       "3    18:05           23:30   5h 25m      1 stop         No info   6218  \n",
       "4    16:50           21:35   4h 45m      1 stop         No info  13302  "
      ]
     },
     "execution_count": 1,
     "metadata": {},
     "output_type": "execute_result"
    }
   ],
   "source": [
    "!pip install pandas  \n",
    "import pandas as pd \n",
    "Data_Train=pd.read_csv(\"Data_Train.csv\") \n",
    "Data_Train. head() "
   ]
  },
  {
   "cell_type": "code",
   "execution_count": 2,
   "metadata": {},
   "outputs": [
    {
     "name": "stdout",
     "output_type": "stream",
     "text": [
      "       Airline Date_of_Journey    Source Destination                  Route  \\\n",
      "0       IndiGo      24/03/2019  Banglore   New Delhi              BLR ? DEL   \n",
      "1    Air India        1/5/2019   Kolkata    Banglore  CCU ? IXR ? BBI ? BLR   \n",
      "2  Jet Airways        9/6/2019     Delhi      Cochin  DEL ? LKO ? BOM ? COK   \n",
      "3       IndiGo       12/5/2019   Kolkata    Banglore        CCU ? NAG ? BLR   \n",
      "4       IndiGo        1/3/2019  Banglore   New Delhi        BLR ? NAG ? DEL   \n",
      "\n",
      "  Dep_Time    Arrival_Time Duration Total_Stops Additional_Info  \n",
      "0    22:20  3/22/2023 1:10   2h 50m    non-stop         No info  \n",
      "1     5:50           13:15   7h 25m     2 stops         No info  \n",
      "2     9:25  6/10/2023 4:25      19h     2 stops         No info  \n",
      "3    18:05           23:30   5h 25m      1 stop         No info  \n",
      "4    16:50           21:35   4h 45m      1 stop         No info  \n",
      "   Price\n",
      "0   3897\n",
      "1   7662\n",
      "2  13882\n",
      "3   6218\n",
      "4  13302\n"
     ]
    }
   ],
   "source": [
    "import numpy as np \n",
    "Data_Train_cat = Data_Train.select_dtypes(object) \n",
    "Data_Train_num= Data_Train.select_dtypes(np.number) \n",
    "print(Data_Train_cat.head()) \n",
    "print(Data_Train_num. head()) "
   ]
  },
  {
   "cell_type": "code",
   "execution_count": 3,
   "metadata": {},
   "outputs": [
    {
     "name": "stdout",
     "output_type": "stream",
     "text": [
      "           Airline Date_of_Journey    Source Destination Dep_Time  \\\n",
      "0           IndiGo      24/03/2019  Banglore   New Delhi    22:20   \n",
      "1        Air India        1/5/2019   Kolkata    Banglore     5:50   \n",
      "2      Jet Airways        9/6/2019     Delhi      Cochin     9:25   \n",
      "3           IndiGo       12/5/2019   Kolkata    Banglore    18:05   \n",
      "4           IndiGo        1/3/2019  Banglore   New Delhi    16:50   \n",
      "...            ...             ...       ...         ...      ...   \n",
      "10678     Air Asia        9/4/2019   Kolkata    Banglore    19:55   \n",
      "10679    Air India      27/04/2019   Kolkata    Banglore    20:45   \n",
      "10680  Jet Airways      27/04/2019  Banglore       Delhi     8:20   \n",
      "10681      Vistara        1/3/2019  Banglore   New Delhi    11:30   \n",
      "10682    Air India        9/5/2019     Delhi      Cochin    10:55   \n",
      "\n",
      "         Arrival_Time Duration Total_Stops  \n",
      "0      3/22/2023 1:10   2h 50m    non-stop  \n",
      "1               13:15   7h 25m     2 stops  \n",
      "2      6/10/2023 4:25      19h     2 stops  \n",
      "3               23:30   5h 25m      1 stop  \n",
      "4               21:35   4h 45m      1 stop  \n",
      "...               ...      ...         ...  \n",
      "10678           22:25   2h 30m    non-stop  \n",
      "10679           23:20   2h 35m    non-stop  \n",
      "10680           11:20       3h    non-stop  \n",
      "10681           14:10   2h 40m    non-stop  \n",
      "10682           19:15   8h 20m     2 stops  \n",
      "\n",
      "[10683 rows x 8 columns]\n"
     ]
    }
   ],
   "source": [
    "Data_Train_cat.drop(['Route','Additional_Info'], axis=1, inplace=True) \n",
    "print(Data_Train_cat) "
   ]
  },
  {
   "cell_type": "code",
   "execution_count": 4,
   "metadata": {},
   "outputs": [
    {
     "data": {
      "text/plain": [
       "Airline            0\n",
       "Date_of_Journey    0\n",
       "Source             0\n",
       "Destination        0\n",
       "Dep_Time           0\n",
       "Arrival_Time       0\n",
       "Duration           0\n",
       "Total_Stops        1\n",
       "dtype: int64"
      ]
     },
     "execution_count": 4,
     "metadata": {},
     "output_type": "execute_result"
    }
   ],
   "source": [
    "Data_Train_cat.isnull().sum() "
   ]
  },
  {
   "cell_type": "code",
   "execution_count": 5,
   "metadata": {},
   "outputs": [],
   "source": [
    "Data_Train_cat.Total_Stops.fillna(Data_Train_cat.Total_Stops.value_counts().idxmax(), inplace=True) "
   ]
  },
  {
   "cell_type": "code",
   "execution_count": 6,
   "metadata": {},
   "outputs": [
    {
     "data": {
      "text/plain": [
       "Airline            0\n",
       "Date_of_Journey    0\n",
       "Source             0\n",
       "Destination        0\n",
       "Dep_Time           0\n",
       "Arrival_Time       0\n",
       "Duration           0\n",
       "Total_Stops        0\n",
       "dtype: int64"
      ]
     },
     "execution_count": 6,
     "metadata": {},
     "output_type": "execute_result"
    }
   ],
   "source": [
    "(Data_Train_cat.isnull().sum()) "
   ]
  },
  {
   "cell_type": "code",
   "execution_count": 7,
   "metadata": {},
   "outputs": [
    {
     "name": "stdout",
     "output_type": "stream",
     "text": [
      "Requirement already satisfied: scikit-learn in c:\\users\\toyes\\appdata\\local\\programs\\python\\python311\\lib\\site-packages (1.2.2)\n",
      "Requirement already satisfied: numpy>=1.17.3 in c:\\users\\toyes\\appdata\\local\\programs\\python\\python311\\lib\\site-packages (from scikit-learn) (1.24.2)\n",
      "Requirement already satisfied: scipy>=1.3.2 in c:\\users\\toyes\\appdata\\local\\programs\\python\\python311\\lib\\site-packages (from scikit-learn) (1.10.1)\n",
      "Requirement already satisfied: joblib>=1.1.1 in c:\\users\\toyes\\appdata\\local\\programs\\python\\python311\\lib\\site-packages (from scikit-learn) (1.2.0)\n",
      "Requirement already satisfied: threadpoolctl>=2.0.0 in c:\\users\\toyes\\appdata\\local\\programs\\python\\python311\\lib\\site-packages (from scikit-learn) (3.1.0)\n"
     ]
    }
   ],
   "source": [
    "!pip install scikit-learn \n",
    "from sklearn.preprocessing import LabelEncoder \n",
    "le = LabelEncoder() \n",
    "Data_Train_cat = Data_Train_cat.apply(le.fit_transform) "
   ]
  },
  {
   "cell_type": "code",
   "execution_count": 9,
   "metadata": {},
   "outputs": [
    {
     "data": {
      "text/plain": [
       "Price    0\n",
       "dtype: int64"
      ]
     },
     "execution_count": 9,
     "metadata": {},
     "output_type": "execute_result"
    }
   ],
   "source": [
    "Data_Train_num.isnull().sum() "
   ]
  },
  {
   "cell_type": "code",
   "execution_count": 10,
   "metadata": {},
   "outputs": [
    {
     "data": {
      "text/html": [
       "<div>\n",
       "<style scoped>\n",
       "    .dataframe tbody tr th:only-of-type {\n",
       "        vertical-align: middle;\n",
       "    }\n",
       "\n",
       "    .dataframe tbody tr th {\n",
       "        vertical-align: top;\n",
       "    }\n",
       "\n",
       "    .dataframe thead th {\n",
       "        text-align: right;\n",
       "    }\n",
       "</style>\n",
       "<table border=\"1\" class=\"dataframe\">\n",
       "  <thead>\n",
       "    <tr style=\"text-align: right;\">\n",
       "      <th></th>\n",
       "      <th>Airline</th>\n",
       "      <th>Date_of_Journey</th>\n",
       "      <th>Source</th>\n",
       "      <th>Destination</th>\n",
       "      <th>Dep_Time</th>\n",
       "      <th>Arrival_Time</th>\n",
       "      <th>Duration</th>\n",
       "      <th>Total_Stops</th>\n",
       "      <th>Price</th>\n",
       "    </tr>\n",
       "  </thead>\n",
       "  <tbody>\n",
       "    <tr>\n",
       "      <th>0</th>\n",
       "      <td>3</td>\n",
       "      <td>20</td>\n",
       "      <td>0</td>\n",
       "      <td>5</td>\n",
       "      <td>141</td>\n",
       "      <td>309</td>\n",
       "      <td>240</td>\n",
       "      <td>4</td>\n",
       "      <td>3897</td>\n",
       "    </tr>\n",
       "    <tr>\n",
       "      <th>1</th>\n",
       "      <td>1</td>\n",
       "      <td>2</td>\n",
       "      <td>3</td>\n",
       "      <td>0</td>\n",
       "      <td>176</td>\n",
       "      <td>30</td>\n",
       "      <td>336</td>\n",
       "      <td>1</td>\n",
       "      <td>7662</td>\n",
       "    </tr>\n",
       "    <tr>\n",
       "      <th>2</th>\n",
       "      <td>4</td>\n",
       "      <td>39</td>\n",
       "      <td>2</td>\n",
       "      <td>1</td>\n",
       "      <td>215</td>\n",
       "      <td>1081</td>\n",
       "      <td>106</td>\n",
       "      <td>1</td>\n",
       "      <td>13882</td>\n",
       "    </tr>\n",
       "    <tr>\n",
       "      <th>3</th>\n",
       "      <td>3</td>\n",
       "      <td>6</td>\n",
       "      <td>3</td>\n",
       "      <td>0</td>\n",
       "      <td>91</td>\n",
       "      <td>136</td>\n",
       "      <td>311</td>\n",
       "      <td>0</td>\n",
       "      <td>6218</td>\n",
       "    </tr>\n",
       "    <tr>\n",
       "      <th>4</th>\n",
       "      <td>3</td>\n",
       "      <td>0</td>\n",
       "      <td>0</td>\n",
       "      <td>5</td>\n",
       "      <td>76</td>\n",
       "      <td>113</td>\n",
       "      <td>303</td>\n",
       "      <td>0</td>\n",
       "      <td>13302</td>\n",
       "    </tr>\n",
       "  </tbody>\n",
       "</table>\n",
       "</div>"
      ],
      "text/plain": [
       "   Airline  Date_of_Journey  Source  Destination  Dep_Time  Arrival_Time  \\\n",
       "0        3               20       0            5       141           309   \n",
       "1        1                2       3            0       176            30   \n",
       "2        4               39       2            1       215          1081   \n",
       "3        3                6       3            0        91           136   \n",
       "4        3                0       0            5        76           113   \n",
       "\n",
       "   Duration  Total_Stops  Price  \n",
       "0       240            4   3897  \n",
       "1       336            1   7662  \n",
       "2       106            1  13882  \n",
       "3       311            0   6218  \n",
       "4       303            0  13302  "
      ]
     },
     "execution_count": 10,
     "metadata": {},
     "output_type": "execute_result"
    }
   ],
   "source": [
    "Data_Train_final = pd.concat([Data_Train_cat,Data_Train_num],axis=1) \n",
    "\n",
    "Data_Train_final.head() \n",
    "\n",
    " "
   ]
  },
  {
   "cell_type": "code",
   "execution_count": 13,
   "metadata": {},
   "outputs": [],
   "source": [
    "X = Data_Train_final.drop(['Price'], axis=1) \n",
    "\n",
    "Y = Data_Train_final['Price'] "
   ]
  },
  {
   "cell_type": "code",
   "execution_count": 14,
   "metadata": {},
   "outputs": [
    {
     "data": {
      "text/plain": [
       "(8546, 8546, 2137, 2137)"
      ]
     },
     "execution_count": 14,
     "metadata": {},
     "output_type": "execute_result"
    }
   ],
   "source": [
    "X_train = np.array(X[0:int(0.80*len(X))]) \n",
    "\n",
    "Y_train = np.array(Y[0:int(0.80*len(Y))]) \n",
    "\n",
    "X_test = np.array(X[int(0.80*len(X)):]) \n",
    "\n",
    "Y_test = np.array(Y[int(0.80*len(Y)):]) \n",
    "\n",
    "len(X_train), len(Y_train), len(X_test), len(Y_test) "
   ]
  },
  {
   "cell_type": "code",
   "execution_count": 15,
   "metadata": {},
   "outputs": [],
   "source": [
    "from sklearn.linear_model import LogisticRegression\n",
    "from sklearn.neighbors import KNeighborsClassifier\n"
   ]
  },
  {
   "cell_type": "code",
   "execution_count": 16,
   "metadata": {},
   "outputs": [],
   "source": [
    "LR = LogisticRegression()\n",
    "KNN = KNeighborsClassifier()\n"
   ]
  },
  {
   "cell_type": "code",
   "execution_count": 18,
   "metadata": {},
   "outputs": [
    {
     "name": "stderr",
     "output_type": "stream",
     "text": [
      "c:\\Users\\toyes\\AppData\\Local\\Programs\\Python\\Python311\\Lib\\site-packages\\sklearn\\linear_model\\_logistic.py:458: ConvergenceWarning: lbfgs failed to converge (status=1):\n",
      "STOP: TOTAL NO. of ITERATIONS REACHED LIMIT.\n",
      "\n",
      "Increase the number of iterations (max_iter) or scale the data as shown in:\n",
      "    https://scikit-learn.org/stable/modules/preprocessing.html\n",
      "Please also refer to the documentation for alternative solver options:\n",
      "    https://scikit-learn.org/stable/modules/linear_model.html#logistic-regression\n",
      "  n_iter_i = _check_optimize_result(\n"
     ]
    }
   ],
   "source": [
    "LR_fit = LR.fit(X_train, Y_train)\n",
    "KNN_fit = KNN.fit(X_train, Y_train)\n"
   ]
  },
  {
   "cell_type": "code",
   "execution_count": 19,
   "metadata": {},
   "outputs": [],
   "source": [
    "LR_pred = LR_fit.predict(X_test)\n",
    "KNN_pred = KNN_fit.predict(X_test)\n"
   ]
  },
  {
   "cell_type": "code",
   "execution_count": 20,
   "metadata": {},
   "outputs": [
    {
     "name": "stdout",
     "output_type": "stream",
     "text": [
      "Logistic Regression is 3.462798 percent accurate\n",
      "KNN is 16.705662 percent accurate\n"
     ]
    }
   ],
   "source": [
    "from sklearn.metrics import accuracy_score\n",
    "\n",
    "print(\"Logistic Regression is %f percent accurate\" % (accuracy_score(LR_pred, Y_test)*100))\n",
    "print(\"KNN is %f percent accurate\" % (accuracy_score(KNN_pred, Y_test)*100))\n"
   ]
  },
  {
   "cell_type": "code",
   "execution_count": 21,
   "metadata": {},
   "outputs": [],
   "source": [
    "from sklearn.model_selection import train_test_split\n",
    "\n",
    "from sklearn.model_selection import KFold\n",
    "\n",
    "seed=0\n",
    "\n",
    "cv = KFold(n_splits=5,random_state=2, shuffle=True)"
   ]
  },
  {
   "cell_type": "code",
   "execution_count": 22,
   "metadata": {},
   "outputs": [],
   "source": [
    "def return_score(model,X_train, X_test, y_train, y_test):\n",
    "\n",
    "   model.fit(X_train, y_train)\n",
    "\n",
    "   score = model.score(X_test, y_test)\n",
    "\n",
    "   return score\n",
    "\n",
    "scores = []"
   ]
  },
  {
   "cell_type": "code",
   "execution_count": 23,
   "metadata": {},
   "outputs": [
    {
     "name": "stderr",
     "output_type": "stream",
     "text": [
      "c:\\Users\\toyes\\AppData\\Local\\Programs\\Python\\Python311\\Lib\\site-packages\\sklearn\\linear_model\\_logistic.py:458: ConvergenceWarning: lbfgs failed to converge (status=1):\n",
      "STOP: TOTAL NO. of ITERATIONS REACHED LIMIT.\n",
      "\n",
      "Increase the number of iterations (max_iter) or scale the data as shown in:\n",
      "    https://scikit-learn.org/stable/modules/preprocessing.html\n",
      "Please also refer to the documentation for alternative solver options:\n",
      "    https://scikit-learn.org/stable/modules/linear_model.html#logistic-regression\n",
      "  n_iter_i = _check_optimize_result(\n",
      "c:\\Users\\toyes\\AppData\\Local\\Programs\\Python\\Python311\\Lib\\site-packages\\sklearn\\linear_model\\_logistic.py:458: ConvergenceWarning: lbfgs failed to converge (status=1):\n",
      "STOP: TOTAL NO. of ITERATIONS REACHED LIMIT.\n",
      "\n",
      "Increase the number of iterations (max_iter) or scale the data as shown in:\n",
      "    https://scikit-learn.org/stable/modules/preprocessing.html\n",
      "Please also refer to the documentation for alternative solver options:\n",
      "    https://scikit-learn.org/stable/modules/linear_model.html#logistic-regression\n",
      "  n_iter_i = _check_optimize_result(\n",
      "c:\\Users\\toyes\\AppData\\Local\\Programs\\Python\\Python311\\Lib\\site-packages\\sklearn\\linear_model\\_logistic.py:458: ConvergenceWarning: lbfgs failed to converge (status=1):\n",
      "STOP: TOTAL NO. of ITERATIONS REACHED LIMIT.\n",
      "\n",
      "Increase the number of iterations (max_iter) or scale the data as shown in:\n",
      "    https://scikit-learn.org/stable/modules/preprocessing.html\n",
      "Please also refer to the documentation for alternative solver options:\n",
      "    https://scikit-learn.org/stable/modules/linear_model.html#logistic-regression\n",
      "  n_iter_i = _check_optimize_result(\n",
      "c:\\Users\\toyes\\AppData\\Local\\Programs\\Python\\Python311\\Lib\\site-packages\\sklearn\\linear_model\\_logistic.py:458: ConvergenceWarning: lbfgs failed to converge (status=1):\n",
      "STOP: TOTAL NO. of ITERATIONS REACHED LIMIT.\n",
      "\n",
      "Increase the number of iterations (max_iter) or scale the data as shown in:\n",
      "    https://scikit-learn.org/stable/modules/preprocessing.html\n",
      "Please also refer to the documentation for alternative solver options:\n",
      "    https://scikit-learn.org/stable/modules/linear_model.html#logistic-regression\n",
      "  n_iter_i = _check_optimize_result(\n"
     ]
    },
    {
     "name": "stdout",
     "output_type": "stream",
     "text": [
      "Accuracy score in each iteration: [0.029948525970987367, 0.02667290594291062, 0.030416471689284044, 0.03275620028076743, 0.035563874590547495]\n",
      "K-Fold Score: 0.03107159569489939\n"
     ]
    },
    {
     "name": "stderr",
     "output_type": "stream",
     "text": [
      "c:\\Users\\toyes\\AppData\\Local\\Programs\\Python\\Python311\\Lib\\site-packages\\sklearn\\linear_model\\_logistic.py:458: ConvergenceWarning: lbfgs failed to converge (status=1):\n",
      "STOP: TOTAL NO. of ITERATIONS REACHED LIMIT.\n",
      "\n",
      "Increase the number of iterations (max_iter) or scale the data as shown in:\n",
      "    https://scikit-learn.org/stable/modules/preprocessing.html\n",
      "Please also refer to the documentation for alternative solver options:\n",
      "    https://scikit-learn.org/stable/modules/linear_model.html#logistic-regression\n",
      "  n_iter_i = _check_optimize_result(\n"
     ]
    }
   ],
   "source": [
    "model = LogisticRegression()\n",
    "\n",
    "for train_index, test_index in cv.split(X,Y):\n",
    "\n",
    "   X_train, X_test, y_train, y_test = train_test_split(X,Y,test_size=0.2)\n",
    "\n",
    "   score = return_score(model,X_train, X_test, y_train, y_test)  \n",
    "\n",
    "   scores.append(score)\n",
    "\n",
    "print(\"Accuracy score in each iteration: {}\".format(scores))\n",
    "\n",
    "print(\"K-Fold Score: {}\".format(np.mean(scores)))"
   ]
  },
  {
   "cell_type": "code",
   "execution_count": 24,
   "metadata": {},
   "outputs": [
    {
     "name": "stdout",
     "output_type": "stream",
     "text": [
      "Accuracy score in each iteration: [0.029948525970987367, 0.02667290594291062, 0.030416471689284044, 0.03275620028076743, 0.035563874590547495, 0.16846045858680392, 0.16331305568554047, 0.1670566214319139, 0.16003743565746373, 0.15629386991109032]\n",
      "K-Fold Score: 0.09705194197473091\n"
     ]
    }
   ],
   "source": [
    "model = KNeighborsClassifier()\n",
    "\n",
    "for train_index, test_index in cv.split(X,Y):\n",
    "\n",
    "   X_train, X_test, y_train, y_test = train_test_split(X,Y,test_size=0.2)\n",
    "\n",
    "   score = return_score(model,X_train, X_test, y_train, y_test)  \n",
    "\n",
    "   scores.append(score)\n",
    "\n",
    "print(\"Accuracy score in each iteration: {}\".format(scores))\n",
    "\n",
    "print(\"K-Fold Score: {}\".format(np.mean(scores)))\n",
    "\n"
   ]
  },
  {
   "cell_type": "code",
   "execution_count": 25,
   "metadata": {},
   "outputs": [
    {
     "name": "stderr",
     "output_type": "stream",
     "text": [
      "c:\\Users\\toyes\\AppData\\Local\\Programs\\Python\\Python311\\Lib\\site-packages\\sklearn\\linear_model\\_logistic.py:458: ConvergenceWarning: lbfgs failed to converge (status=1):\n",
      "STOP: TOTAL NO. of ITERATIONS REACHED LIMIT.\n",
      "\n",
      "Increase the number of iterations (max_iter) or scale the data as shown in:\n",
      "    https://scikit-learn.org/stable/modules/preprocessing.html\n",
      "Please also refer to the documentation for alternative solver options:\n",
      "    https://scikit-learn.org/stable/modules/linear_model.html#logistic-regression\n",
      "  n_iter_i = _check_optimize_result(\n",
      "c:\\Users\\toyes\\AppData\\Local\\Programs\\Python\\Python311\\Lib\\site-packages\\sklearn\\linear_model\\_logistic.py:458: ConvergenceWarning: lbfgs failed to converge (status=1):\n",
      "STOP: TOTAL NO. of ITERATIONS REACHED LIMIT.\n",
      "\n",
      "Increase the number of iterations (max_iter) or scale the data as shown in:\n",
      "    https://scikit-learn.org/stable/modules/preprocessing.html\n",
      "Please also refer to the documentation for alternative solver options:\n",
      "    https://scikit-learn.org/stable/modules/linear_model.html#logistic-regression\n",
      "  n_iter_i = _check_optimize_result(\n",
      "c:\\Users\\toyes\\AppData\\Local\\Programs\\Python\\Python311\\Lib\\site-packages\\sklearn\\linear_model\\_logistic.py:458: ConvergenceWarning: lbfgs failed to converge (status=1):\n",
      "STOP: TOTAL NO. of ITERATIONS REACHED LIMIT.\n",
      "\n",
      "Increase the number of iterations (max_iter) or scale the data as shown in:\n",
      "    https://scikit-learn.org/stable/modules/preprocessing.html\n",
      "Please also refer to the documentation for alternative solver options:\n",
      "    https://scikit-learn.org/stable/modules/linear_model.html#logistic-regression\n",
      "  n_iter_i = _check_optimize_result(\n",
      "c:\\Users\\toyes\\AppData\\Local\\Programs\\Python\\Python311\\Lib\\site-packages\\sklearn\\linear_model\\_logistic.py:458: ConvergenceWarning: lbfgs failed to converge (status=1):\n",
      "STOP: TOTAL NO. of ITERATIONS REACHED LIMIT.\n",
      "\n",
      "Increase the number of iterations (max_iter) or scale the data as shown in:\n",
      "    https://scikit-learn.org/stable/modules/preprocessing.html\n",
      "Please also refer to the documentation for alternative solver options:\n",
      "    https://scikit-learn.org/stable/modules/linear_model.html#logistic-regression\n",
      "  n_iter_i = _check_optimize_result(\n"
     ]
    },
    {
     "name": "stdout",
     "output_type": "stream",
     "text": [
      "Accuracy score in each iteration: [0.029948525970987367, 0.02667290594291062, 0.030416471689284044, 0.03275620028076743, 0.035563874590547495, 0.16846045858680392, 0.16331305568554047, 0.1670566214319139, 0.16003743565746373, 0.15629386991109032, 0.028544688816097334, 0.031820308844174076, 0.04211511464670098, 0.03743565746373421, 0.034160037435657466]\n",
      "Stratified K-Fold Score: 0.0763063484635782\n"
     ]
    },
    {
     "name": "stderr",
     "output_type": "stream",
     "text": [
      "c:\\Users\\toyes\\AppData\\Local\\Programs\\Python\\Python311\\Lib\\site-packages\\sklearn\\linear_model\\_logistic.py:458: ConvergenceWarning: lbfgs failed to converge (status=1):\n",
      "STOP: TOTAL NO. of ITERATIONS REACHED LIMIT.\n",
      "\n",
      "Increase the number of iterations (max_iter) or scale the data as shown in:\n",
      "    https://scikit-learn.org/stable/modules/preprocessing.html\n",
      "Please also refer to the documentation for alternative solver options:\n",
      "    https://scikit-learn.org/stable/modules/linear_model.html#logistic-regression\n",
      "  n_iter_i = _check_optimize_result(\n"
     ]
    }
   ],
   "source": [
    "model = LogisticRegression()\n",
    "\n",
    "for train_index, test_index in cv.split(X,Y):\n",
    "\n",
    "   X_train, X_test, y_train, y_test = train_test_split(X,Y,test_size=0.2)\n",
    "\n",
    "   score = return_score(model,X_train, X_test, y_train, y_test)  \n",
    "\n",
    "   scores.append(score)\n",
    "\n",
    "print(\"Accuracy score in each iteration: {}\".format(scores))\n",
    "\n",
    "print(\"Stratified K-Fold Score: {}\".format(np.mean(scores)))"
   ]
  },
  {
   "cell_type": "code",
   "execution_count": 26,
   "metadata": {},
   "outputs": [
    {
     "name": "stdout",
     "output_type": "stream",
     "text": [
      "Accuracy score in each iteration: [0.029948525970987367, 0.02667290594291062, 0.030416471689284044, 0.03275620028076743, 0.035563874590547495, 0.16846045858680392, 0.16331305568554047, 0.1670566214319139, 0.16003743565746373, 0.15629386991109032, 0.028544688816097334, 0.031820308844174076, 0.04211511464670098, 0.03743565746373421, 0.034160037435657466, 0.17688348151614414, 0.16378100140383717, 0.16003743565746373, 0.16190921853065043, 0.1544220870379036]\n",
      "Stratified K-Fold Score: 0.09808142255498362\n"
     ]
    }
   ],
   "source": [
    "model = KNeighborsClassifier()\n",
    "\n",
    "for train_index, test_index in cv.split(X,Y):\n",
    "\n",
    "   X_train, X_test, y_train, y_test = train_test_split(X,Y,test_size=0.2)\n",
    "\n",
    "   score = return_score(model,X_train, X_test, y_train, y_test)  \n",
    "\n",
    "   scores.append(score)\n",
    "\n",
    "print(\"Accuracy score in each iteration: {}\".format(scores))\n",
    "\n",
    "print(\"Stratified K-Fold Score: {}\".format(np.mean(scores)))"
   ]
  }
 ],
 "metadata": {
  "kernelspec": {
   "display_name": "Python 3",
   "language": "python",
   "name": "python3"
  },
  "language_info": {
   "codemirror_mode": {
    "name": "ipython",
    "version": 3
   },
   "file_extension": ".py",
   "mimetype": "text/x-python",
   "name": "python",
   "nbconvert_exporter": "python",
   "pygments_lexer": "ipython3",
   "version": "3.11.2"
  },
  "orig_nbformat": 4
 },
 "nbformat": 4,
 "nbformat_minor": 2
}
