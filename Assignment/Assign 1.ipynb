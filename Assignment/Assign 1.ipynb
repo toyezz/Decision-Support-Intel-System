{
 "cells": [
  {
   "cell_type": "code",
   "execution_count": null,
   "metadata": {},
   "outputs": [],
   "source": []
  }
 ],
 "metadata": {
  "kernelspec": {
   "display_name": "Python 3",
   "language": "python",
   "name": "python3"
  },
  "language_info": {
   "name": "python",
   "version": "3.11.2"
  },
  "orig_nbformat": 4,
  "vscode": {
   "interpreter": {
    "hash": "533badb6456dfd673c4d579c088aba8c6ca9baa0e378d66354025474751692b7"
   }
  }
 },
 "nbformat": 4,
 "nbformat_minor": 2
}
